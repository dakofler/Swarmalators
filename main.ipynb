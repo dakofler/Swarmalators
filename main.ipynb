{
 "cells": [
  {
   "cell_type": "markdown",
   "metadata": {},
   "source": [
    "# Impact on Convergence Time of Swarmalators by using Momentum\n",
    "Simulation<br>\n",
    "D. Kofler, 2022\n",
    "\n",
    "This simulation was initially created based on the paper 'Swarmalators with Stochastic Coupling and Memory' by Udo Schilcher, Jorge F. Schmidt, Arke Vogell, and Christian Bettstetter<br>\n",
    "http://data.bettstetter.com/publications/schilcher-2021-acsos-swarmalators.pdf\n",
    "\n",
    "The model is extended by adding a momentum term to analyze whether this accelerates convergence.\n",
    "\n",
    "### Imports"
   ]
  },
  {
   "cell_type": "code",
   "execution_count": null,
   "metadata": {},
   "outputs": [],
   "source": [
    "from swarmalator_model.simulation import Simulation\n",
    "from swarmalator_model.simulation_run import Simulation_run\n",
    "from swarmalator_model.preset import Preset\n",
    "from swarmalator_model.analysis import Analysis\n",
    "from swarmalator_model import helper_functions as hlp\n",
    "import os"
   ]
  },
  {
   "cell_type": "markdown",
   "metadata": {},
   "source": [
    "### Run Simulation\n",
    "\n",
    "Different patterns emerge when swarmalators converge depending on *J* and *K*.\n",
    "\n",
    "|Pattern               |   J  |   K   |\n",
    "|----------------------|------|-------|\n",
    "|Static sync           |  0.1 |   1   |\n",
    "|static async          |  0.1 |  -1   |\n",
    "|static phase wave     |    1 |   0   |\n",
    "|splintered phase wave |    1 | -0.1  |\n",
    "|active phase wave     |    1 | -0.75 |"
   ]
  },
  {
   "cell_type": "code",
   "execution_count": null,
   "metadata": {},
   "outputs": [],
   "source": [
    "sim = Simulation(\n",
    "    plot_size=1000,\n",
    "    logging=True,\n",
    "    num_swarmalators=100,\n",
    "    memory_init='random',\n",
    "    coupling_probability=1.0,\n",
    "    J=1,\n",
    "    K=0,\n",
    "    alpha=0.5)\n",
    "sim.run_simulation()"
   ]
  },
  {
   "cell_type": "markdown",
   "metadata": {},
   "source": [
    "### Automatic Simulation Runs\n",
    "\n",
    "Load presets from JSON files created by the simulation tool."
   ]
  },
  {
   "cell_type": "code",
   "execution_count": null,
   "metadata": {},
   "outputs": [],
   "source": [
    "presets = []\n",
    "for p in os.listdir('presets'):\n",
    "    preset = Preset()\n",
    "    preset.load_from_json(p)\n",
    "    presets.append(preset)\n",
    "\n",
    "presets"
   ]
  },
  {
   "cell_type": "markdown",
   "metadata": {},
   "source": [
    "Automatically run simulations and save the resulting data for a given set of presets"
   ]
  },
  {
   "cell_type": "code",
   "execution_count": null,
   "metadata": {},
   "outputs": [],
   "source": [
    "Simulation_run(presets=presets, sim_time=30).start()"
   ]
  },
  {
   "cell_type": "markdown",
   "metadata": {},
   "source": [
    "### Analyze Simulation Data\n",
    "\n",
    "Load datasets into Dataset objects"
   ]
  },
  {
   "cell_type": "code",
   "execution_count": null,
   "metadata": {},
   "outputs": [],
   "source": [
    "file1 = os.listdir('sim_data')[0]\n",
    "dataset1 = hlp.load_data('sim_data\\\\' + file1)\n",
    "dataset1.summary()"
   ]
  },
  {
   "cell_type": "markdown",
   "metadata": {},
   "source": [
    "#### Auto analyze data\n",
    "\n",
    "Get all datasets"
   ]
  },
  {
   "cell_type": "code",
   "execution_count": null,
   "metadata": {},
   "outputs": [],
   "source": [
    "all_datasets = []\n",
    "for d in os.listdir('sim_data'):\n",
    "    dataset = hlp.load_data('sim_data\\\\' + d)\n",
    "    all_datasets.append(dataset)"
   ]
  },
  {
   "cell_type": "markdown",
   "metadata": {},
   "source": [
    "Add datasets to an Analysis object"
   ]
  },
  {
   "cell_type": "code",
   "execution_count": null,
   "metadata": {},
   "outputs": [],
   "source": [
    "a = Analysis()\n",
    "\n",
    "# filter datasets where coupling probability = 1\n",
    "datasets = [d for d in all_datasets if d.parameters['cp'] == 0.1]\n",
    "\n",
    "# add datasets to analysis\n",
    "for d in datasets:\n",
    "    pattern = ''\n",
    "    string = str(d.parameters['j']) + '_' + str(d.parameters['k'])\n",
    "    match string:\n",
    "        case '0.1_1.0':\n",
    "            pattern = 'static sync'\n",
    "        case '0.1_-1.0':\n",
    "            pattern = 'static async'\n",
    "        case '1.0_0.0':\n",
    "            pattern = 'static phase wave'\n",
    "        case '1.0_-0.1':\n",
    "            pattern = 'splintered phase wave'\n",
    "        case '1.0_-0.75':\n",
    "            pattern = 'active phase wave'\n",
    "        case _:\n",
    "            pattern = 'unknown pattern'\n",
    "\n",
    "    pattern += ' cp' + str(d.parameters['cp']) + ' a' + str(d.parameters['a'])\n",
    "    a.add_dataset(d, pattern)\n",
    "\n",
    "a.list_datasets()"
   ]
  },
  {
   "cell_type": "markdown",
   "metadata": {},
   "source": [
    "Plot results"
   ]
  },
  {
   "cell_type": "code",
   "execution_count": null,
   "metadata": {},
   "outputs": [],
   "source": [
    "ds_to_plot = list(a.datasets.keys())\n",
    "\n",
    "# pairwise plot\n",
    "i = 0\n",
    "while i < len(ds_to_plot):\n",
    "    a.plot_avg_speed([ds_to_plot[i], ds_to_plot[i + 1]], save=True)\n",
    "    i += 2"
   ]
  }
 ],
 "metadata": {
  "kernelspec": {
   "display_name": "Python 3.10.1 64-bit",
   "language": "python",
   "name": "python3"
  },
  "language_info": {
   "codemirror_mode": {
    "name": "ipython",
    "version": 3
   },
   "file_extension": ".py",
   "mimetype": "text/x-python",
   "name": "python",
   "nbconvert_exporter": "python",
   "pygments_lexer": "ipython3",
   "version": "3.10.1"
  },
  "orig_nbformat": 4,
  "vscode": {
   "interpreter": {
    "hash": "deee277ef8cb4a05cf6441d551c854fa5e547ddedbca2c10e6f5685ea62b6c02"
   }
  }
 },
 "nbformat": 4,
 "nbformat_minor": 2
}
