{
 "cells": [
  {
   "cell_type": "markdown",
   "metadata": {},
   "source": [
    "# Impact on Convergence Time of Swarmalators by using Momentum\n",
    "Simulation<br>\n",
    "D. Kofler, 2022\n",
    "\n",
    "This simulation was initially created based on the paper 'Swarmalators with Stochastic Coupling and Memory' by Udo Schilcher, Jorge F. Schmidt, Arke Vogell, and Christian Bettstetter<br>\n",
    "http://data.bettstetter.com/publications/schilcher-2021-acsos-swarmalators.pdf\n",
    "\n",
    "It was expanded in order to explore the impact on swarmalator-velocity-momentum on convergence time.\n",
    "\n",
    "### Imports"
   ]
  },
  {
   "cell_type": "code",
   "execution_count": null,
   "metadata": {},
   "outputs": [],
   "source": [
    "from swarmalator_model.simulation import Simulation\n",
    "from swarmalator_model.simulation_run import Simulation_run\n",
    "from swarmalator_model.preset import Preset\n",
    "from swarmalator_model.analysis import Analysis\n",
    "from swarmalator_model import helper_functions as hlp"
   ]
  },
  {
   "cell_type": "markdown",
   "metadata": {},
   "source": [
    "### Run Simulation\n",
    "\n",
    "Different patterns emerge when swarmalators converge depending on *J* and *K*.\n",
    "\n",
    "|Pattern               |   J  |   K   |\n",
    "|----------------------|------|-------|\n",
    "|Static sync           |  0.1 |   1   |\n",
    "|static async          |  0.1 |  -1   |\n",
    "|static phase wave     |    1 |   0   |\n",
    "|splintered phase wave |    1 | -0.1  |\n",
    "|active phase wave     |    1 | -0.75 |"
   ]
  },
  {
   "cell_type": "code",
   "execution_count": null,
   "metadata": {},
   "outputs": [],
   "source": [
    "sim = Simulation(\n",
    "    plot_size=1000,\n",
    "    logging=True,\n",
    "    num_swarmalators=100,\n",
    "    memory_init='random',\n",
    "    coupling_probability=1.0,\n",
    "    J=1,\n",
    "    K=0,\n",
    "    alpha=0.5)\n",
    "sim.run_simulation()"
   ]
  },
  {
   "cell_type": "markdown",
   "metadata": {},
   "source": [
    "### Automatic Simulation Runs\n",
    "\n",
    "Load presets from JSON files created by the simulation tool."
   ]
  },
  {
   "cell_type": "code",
   "execution_count": null,
   "metadata": {},
   "outputs": [],
   "source": [
    "preset1 = Preset()\n",
    "preset1.load_from_json('250_gradual_0.1_0.1_1.0_1.0_0.0.json')\n",
    "preset1.summary()"
   ]
  },
  {
   "cell_type": "code",
   "execution_count": null,
   "metadata": {},
   "outputs": [],
   "source": [
    "preset2 = Preset()\n",
    "preset2.load_from_json('250_gradual_0.1_0.1_1.0_1.0_0.5.json')\n",
    "preset2.summary()"
   ]
  },
  {
   "cell_type": "markdown",
   "metadata": {},
   "source": [
    "Automatically run simulations and save the resulting data for a given set of presets"
   ]
  },
  {
   "cell_type": "code",
   "execution_count": null,
   "metadata": {},
   "outputs": [],
   "source": [
    "presets = [preset1, preset2]\n",
    "Simulation_run(presets=presets, sim_time=20).start()"
   ]
  },
  {
   "cell_type": "markdown",
   "metadata": {},
   "source": [
    "### Analyze Simulation Data\n",
    "\n",
    "Load datasets into Dataset objects"
   ]
  },
  {
   "cell_type": "code",
   "execution_count": null,
   "metadata": {},
   "outputs": [],
   "source": [
    "file1 = 'dataset_0.1_1.0_1.0_0.0_20220925121837.ssd'\n",
    "dataset1 = hlp.load_data('sim_data\\\\' + file1)\n",
    "dataset1.summary()"
   ]
  },
  {
   "cell_type": "code",
   "execution_count": null,
   "metadata": {},
   "outputs": [],
   "source": [
    "file2 = 'dataset_0.1_1.0_1.0_0.5_20220925121859.ssd'\n",
    "dataset2 = hlp.load_data('sim_data\\\\' + file2)\n",
    "dataset2.summary()"
   ]
  },
  {
   "cell_type": "markdown",
   "metadata": {},
   "source": [
    "Add datasets to an Analysis object"
   ]
  },
  {
   "cell_type": "code",
   "execution_count": null,
   "metadata": {},
   "outputs": [],
   "source": [
    "a = Analysis()\n",
    "a.add_dataset(dataset1, 'alpha_0')\n",
    "a.add_dataset(dataset2, 'alpha_0_5')"
   ]
  },
  {
   "cell_type": "markdown",
   "metadata": {},
   "source": [
    "Plot results"
   ]
  },
  {
   "cell_type": "code",
   "execution_count": null,
   "metadata": {},
   "outputs": [],
   "source": [
    "a.plot_avg_speed(['alpha_0', 'alpha_0_5'], save=True)"
   ]
  }
 ],
 "metadata": {
  "kernelspec": {
   "display_name": "Python 3.10.1 64-bit",
   "language": "python",
   "name": "python3"
  },
  "language_info": {
   "codemirror_mode": {
    "name": "ipython",
    "version": 3
   },
   "file_extension": ".py",
   "mimetype": "text/x-python",
   "name": "python",
   "nbconvert_exporter": "python",
   "pygments_lexer": "ipython3",
   "version": "3.10.1"
  },
  "orig_nbformat": 4,
  "vscode": {
   "interpreter": {
    "hash": "deee277ef8cb4a05cf6441d551c854fa5e547ddedbca2c10e6f5685ea62b6c02"
   }
  }
 },
 "nbformat": 4,
 "nbformat_minor": 2
}
