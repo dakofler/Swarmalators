{
 "cells": [
  {
   "cell_type": "markdown",
   "metadata": {},
   "source": [
    "# Swarmalators with Stochastic Coupling and Memory\n",
    "Simulation<br>\n",
    "D. Kofler, 2022\n",
    "\n",
    "This simulation was created based on the paper 'Swarmalators with Stochastic Coupling and Memory' by Udo Schilcher, Jorge F. Schmidt, Arke Vogell, and Christian Bettstetter<br>\n",
    "http://data.bettstetter.com/publications/schilcher-2021-acsos-swarmalators.pdf\n",
    "\n",
    "### Imports"
   ]
  },
  {
   "cell_type": "code",
   "execution_count": null,
   "metadata": {},
   "outputs": [],
   "source": [
    "from swarmalator_model.simulation import Simulation"
   ]
  },
  {
   "cell_type": "markdown",
   "metadata": {},
   "source": [
    "### Initialize Simulation Environment"
   ]
  },
  {
   "cell_type": "code",
   "execution_count": null,
   "metadata": {},
   "outputs": [],
   "source": [
    "plot_size = 1000\n",
    "sim = Simulation(plot_size)"
   ]
  },
  {
   "cell_type": "markdown",
   "metadata": {},
   "source": [
    "### Run Simulation\n",
    "\n",
    "Different patterns emerge when swarmalators converge depending on *J* and *K*.\n",
    "\n",
    "|Pattern               |   J  |   K   |\n",
    "|----------------------|------|-------|\n",
    "|Static sync           |  0.1 |   1   |\n",
    "|static async          |  0.1 |  -1   |\n",
    "|static phase wave     |    1 |   0   |\n",
    "|splintered phase wave |    1 | -0.1  |\n",
    "|active phase wave     |    1 | -0.75 |"
   ]
  },
  {
   "cell_type": "code",
   "execution_count": null,
   "metadata": {},
   "outputs": [],
   "source": [
    "sim.run_simulation()"
   ]
  }
 ],
 "metadata": {
  "kernelspec": {
   "display_name": "Python 3.10.1 64-bit",
   "language": "python",
   "name": "python3"
  },
  "language_info": {
   "codemirror_mode": {
    "name": "ipython",
    "version": 3
   },
   "file_extension": ".py",
   "mimetype": "text/x-python",
   "name": "python",
   "nbconvert_exporter": "python",
   "pygments_lexer": "ipython3",
   "version": "3.10.1"
  },
  "orig_nbformat": 4,
  "vscode": {
   "interpreter": {
    "hash": "deee277ef8cb4a05cf6441d551c854fa5e547ddedbca2c10e6f5685ea62b6c02"
   }
  }
 },
 "nbformat": 4,
 "nbformat_minor": 2
}
